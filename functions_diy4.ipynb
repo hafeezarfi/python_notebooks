{
 "cells": [
  {
   "cell_type": "markdown",
   "id": "7ebde84f-9cf6-48f3-9038-406820da1ef2",
   "metadata": {},
   "source": [
    "## Functions in Python"
   ]
  },
  {
   "cell_type": "markdown",
   "id": "01144ab9-4b6e-4347-bcb8-f223611cd866",
   "metadata": {},
   "source": [
    "Functions in python are a group of related statements that performs a specific task and can be called repeatedly.\n",
    "\n",
    "They make normal larger programs more organized and manageable."
   ]
  },
  {
   "cell_type": "markdown",
   "id": "afe5cc55-05a1-4a9e-8ad8-674d255f1f07",
   "metadata": {},
   "source": [
    "## Quotient and Remainder"
   ]
  },
  {
   "cell_type": "markdown",
   "id": "585d14a5-1e4f-40b1-b968-86e3aec0c084",
   "metadata": {},
   "source": [
    "Q: Write a python program with a user-defined function that takes two integers as input, dividend, and divisor.\n",
    "\n",
    "Print the quotient and the remainder of the two numbers by dividing them using the \"//\" and \"%\" operators."
   ]
  },
  {
   "cell_type": "code",
   "execution_count": null,
   "id": "1c06628d-a510-441b-a6b2-7e4bcc30dd5b",
   "metadata": {},
   "outputs": [],
   "source": [
    "n1 = int(input(\"Enter the Divvidend: \"))\n",
    "n2 = int(input(\"Enter the Divisor: \"))\n",
    "\n",
    "def division(n1, n2):\n",
    "    dividend = n1//n2\n",
    "    divisor = n1%n2\n",
    "    print(\"Quotient: \",dividend)\n",
    "    print(\"Remainder: \",divisor)\n",
    "\n",
    "division(n1,n2)"
   ]
  },
  {
   "cell_type": "markdown",
   "id": "9f2653ed-78b5-49d0-bfe9-4dbcf99f6a6d",
   "metadata": {},
   "source": [
    "## Simple Interest Calculator"
   ]
  },
  {
   "cell_type": "markdown",
   "id": "f85df01d-85bc-4011-b3a0-d52556f41a9b",
   "metadata": {},
   "source": [
    "Q: Write a program in Python to calculate simple interes using the lambda function.\n",
    "\n",
    "<b>Hint:</b> Simple interest = (P * R * T)/100, where P is the principal amount, R is the rate, and T is \n",
    "\n",
    "the time/number of years."
   ]
  },
  {
   "cell_type": "code",
   "execution_count": 3,
   "id": "77f04298-c134-48ae-8417-55e5a843d848",
   "metadata": {},
   "outputs": [
    {
     "name": "stdin",
     "output_type": "stream",
     "text": [
      "Enter the Principal Amount: 40000\n",
      "Enter the Time(Number of years): 5\n",
      "Enter the Interest Rate: 8\n"
     ]
    },
    {
     "name": "stdout",
     "output_type": "stream",
     "text": [
      "The Simple Interest is: 16000.0\n"
     ]
    }
   ],
   "source": [
    "principal_amount = float(input(\"Enter the Principal Amount:\"))\n",
    "time = int(input(\"Enter the Time(Number of years):\"))\n",
    "rate = int(input(\"Enter the Interest Rate:\"))\n",
    "\n",
    "simple_interest = lambda p,r,t : (p*r*t)/100\n",
    "\n",
    "print(\"The Simple Interest is:\",simple_interest(principal_amount,rate,time))"
   ]
  }
 ],
 "metadata": {
  "kernelspec": {
   "display_name": "Python 3 (ipykernel)",
   "language": "python",
   "name": "python3"
  },
  "language_info": {
   "codemirror_mode": {
    "name": "ipython",
    "version": 3
   },
   "file_extension": ".py",
   "mimetype": "text/x-python",
   "name": "python",
   "nbconvert_exporter": "python",
   "pygments_lexer": "ipython3",
   "version": "3.11.7"
  }
 },
 "nbformat": 4,
 "nbformat_minor": 5
}
