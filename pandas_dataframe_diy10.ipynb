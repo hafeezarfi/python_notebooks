{
 "cells": [
  {
   "cell_type": "markdown",
   "id": "fd885339-154e-4e1d-83c7-e77fc3df9f03",
   "metadata": {},
   "source": [
    "## Data Filtering using Pandas\n",
    "\n",
    "<b>Q</b>: Write a Python program that reads the player.csv (provided) file into a DataFrame, then shows\n",
    "\n",
    "only those players who played more than 150 innings and scored at least two centuries and 35 fifties."
   ]
  },
  {
   "cell_type": "code",
   "execution_count": 28,
   "id": "78ac3462-0558-41f0-843a-66274667135d",
   "metadata": {},
   "outputs": [
    {
     "name": "stdout",
     "output_type": "stream",
     "text": [
      "   rank             name  matches  innings  runs  highest  100s  50s\n",
      "0     1          V Kohli      207      199  6283      113     5   42\n",
      "1     2         S Dhawan      194      191  5784      106     2   44\n",
      "5     6  A B de Villiers      184      170  5162      133     3   40\n"
     ]
    }
   ],
   "source": [
    "import pandas as pd\n",
    "\n",
    "# getting csv file\n",
    "df = pd.read_csv('player.csv')\n",
    "\n",
    "# filtering data one by one\n",
    "df2 = df[df['innings']>150]\n",
    "df3 = df2[df2['100s']>=2]\n",
    "df4 = df3[df3['50s']>=35]\n",
    "\n",
    "print(df4)"
   ]
  },
  {
   "cell_type": "markdown",
   "id": "d27c8002-dd38-427f-ab59-a43bed618716",
   "metadata": {},
   "source": [
    "<b>Q</b>: Use the player.csv data set and do the below tasks.\n",
    "\n",
    "1. Remove the data of players who didn't score a single century\n",
    "2. Replace the player name \"V Kohli\" with \"Virat Kohli\"\n",
    "3. How many matches they werent't getting a chance for batting to fetch that and stored in a new column and named it as \"not batting\"\n",
    "4. Fetch data where they scored neither 100 nor 50 in matches and store it in the new column as renamed as \"low score innings\""
   ]
  },
  {
   "cell_type": "code",
   "execution_count": 49,
   "id": "bf782856-6ec0-4c93-8834-6b444e14816e",
   "metadata": {},
   "outputs": [
    {
     "name": "stdout",
     "output_type": "stream",
     "text": [
      "   rank             name  matches  innings  runs  highest  100s  50s\n",
      "0     1          V Kohli      207      199  6283      113     5   42\n",
      "1     2         S Dhawan      194      191  5784      106     2   44\n",
      "2     3     Rohit Sharma      213      208  5611      109     1   40\n",
      "3     4     Suresh Raina      205      200  5528      100     1   39\n",
      "4     5     David Warner      150      150  5449      126     4   50\n",
      "5     6  A B de Villiers      184      170  5162      133     3   40\n",
      "6     7      Chris Gayle      142      141  4965      175     6   31\n"
     ]
    }
   ],
   "source": [
    "import pandas as pd\n",
    "\n",
    "df = pd.read_csv('player.csv')\n",
    "\n",
    "# 1. remove the data of players who didn;t score a single century\n",
    "df = df[df['100s']>=1]\n",
    "\n",
    "print(df)"
   ]
  },
  {
   "cell_type": "code",
   "execution_count": 61,
   "id": "fe7d3758-fad0-48ae-b0f5-dc595847e5ff",
   "metadata": {},
   "outputs": [
    {
     "name": "stdout",
     "output_type": "stream",
     "text": [
      "   rank             name  matches  innings  runs  highest  100s  50s\n",
      "0     1      Virat Kohli      207      199  6283      113     5   42\n",
      "1     2         S Dhawan      194      191  5784      106     2   44\n",
      "2     3     Rohit Sharma      213      208  5611      109     1   40\n",
      "3     4     Suresh Raina      205      200  5528      100     1   39\n",
      "4     5     David Warner      150      150  5449      126     4   50\n",
      "5     6  A B de Villiers      184      170  5162      133     3   40\n",
      "6     7      Chris Gayle      142      141  4965      175     6   31\n"
     ]
    },
    {
     "name": "stderr",
     "output_type": "stream",
     "text": [
      "C:\\Users\\hafee\\AppData\\Local\\Temp\\ipykernel_8388\\2364812475.py:2: SettingWithCopyWarning: \n",
      "A value is trying to be set on a copy of a slice from a DataFrame\n",
      "\n",
      "See the caveats in the documentation: https://pandas.pydata.org/pandas-docs/stable/user_guide/indexing.html#returning-a-view-versus-a-copy\n",
      "  df.name[df.name=='V Kohli']='Virat Kohli'\n"
     ]
    }
   ],
   "source": [
    "# 2. Replace the player name \"V Kohli\" with \"Virat Kohli\"\n",
    "df.name[df.name=='V Kohli']='Virat Kohli'\n",
    "print(df)"
   ]
  },
  {
   "cell_type": "code",
   "execution_count": 63,
   "id": "5b5f4229-3d60-43d1-b16d-aa6ba28026b0",
   "metadata": {},
   "outputs": [
    {
     "name": "stdout",
     "output_type": "stream",
     "text": [
      "   rank             name  matches  innings  runs  highest  100s  50s  \\\n",
      "0     1      Virat Kohli      207      199  6283      113     5   42   \n",
      "1     2         S Dhawan      194      191  5784      106     2   44   \n",
      "2     3     Rohit Sharma      213      208  5611      109     1   40   \n",
      "3     4     Suresh Raina      205      200  5528      100     1   39   \n",
      "4     5     David Warner      150      150  5449      126     4   50   \n",
      "5     6  A B de Villiers      184      170  5162      133     3   40   \n",
      "6     7      Chris Gayle      142      141  4965      175     6   31   \n",
      "\n",
      "   not batting  \n",
      "0            8  \n",
      "1            3  \n",
      "2            5  \n",
      "3            5  \n",
      "4            0  \n",
      "5           14  \n",
      "6            1  \n"
     ]
    }
   ],
   "source": [
    "# matches they weren't got a chance for batting as \"not batting\"\n",
    "df[\"not batting\"]= df['matches']-df['innings']\n",
    "\n",
    "print(df)"
   ]
  },
  {
   "cell_type": "code",
   "execution_count": 67,
   "id": "90001898-b161-48ee-9619-98d70f93e048",
   "metadata": {},
   "outputs": [
    {
     "name": "stdout",
     "output_type": "stream",
     "text": [
      "   rank             name  matches  innings  runs  highest  100s  50s  \\\n",
      "0     1      Virat Kohli      207      199  6283      113     5   42   \n",
      "1     2         S Dhawan      194      191  5784      106     2   44   \n",
      "2     3     Rohit Sharma      213      208  5611      109     1   40   \n",
      "3     4     Suresh Raina      205      200  5528      100     1   39   \n",
      "4     5     David Warner      150      150  5449      126     4   50   \n",
      "5     6  A B de Villiers      184      170  5162      133     3   40   \n",
      "6     7      Chris Gayle      142      141  4965      175     6   31   \n",
      "\n",
      "   not batting  low score innings  \n",
      "0            8                152  \n",
      "1            3                145  \n",
      "2            5                167  \n",
      "3            5                160  \n",
      "4            0                 96  \n",
      "5           14                127  \n",
      "6            1                104  \n"
     ]
    }
   ],
   "source": [
    "# fetch data where they score neither 100 nor 50 in matches store as \"low score innings\"\n",
    "df['low score innings'] = df['innings']-(df['100s']+df['50s'])\n",
    "print(df)"
   ]
  },
  {
   "cell_type": "markdown",
   "id": "d7d736ab-b667-485e-a600-ca338048a5c4",
   "metadata": {},
   "source": [
    "-----------------------------"
   ]
  }
 ],
 "metadata": {
  "kernelspec": {
   "display_name": "Python 3 (ipykernel)",
   "language": "python",
   "name": "python3"
  },
  "language_info": {
   "codemirror_mode": {
    "name": "ipython",
    "version": 3
   },
   "file_extension": ".py",
   "mimetype": "text/x-python",
   "name": "python",
   "nbconvert_exporter": "python",
   "pygments_lexer": "ipython3",
   "version": "3.11.7"
  }
 },
 "nbformat": 4,
 "nbformat_minor": 5
}
