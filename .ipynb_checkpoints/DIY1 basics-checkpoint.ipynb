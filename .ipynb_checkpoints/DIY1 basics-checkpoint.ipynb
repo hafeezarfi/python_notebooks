{
 "cells": [
  {
   "cell_type": "markdown",
   "id": "0bd2ce63-8699-4b36-b698-c63215e4817e",
   "metadata": {},
   "source": [
    "## Hello World"
   ]
  },
  {
   "cell_type": "markdown",
   "id": "f9770ea5-d67b-4b45-8a06-20ea9ab5df98",
   "metadata": {},
   "source": [
    "Q: Write a Python program to print “Hello World!”."
   ]
  },
  {
   "cell_type": "code",
   "execution_count": 1,
   "id": "c515ee12-bec3-4379-98bf-ec2ddee01f06",
   "metadata": {},
   "outputs": [
    {
     "name": "stdout",
     "output_type": "stream",
     "text": [
      "Hello, World!\n"
     ]
    }
   ],
   "source": [
    "print(\"Hello, World!\")"
   ]
  },
  {
   "cell_type": "markdown",
   "id": "418b8bbd-3b7e-4fb0-9091-c953abe01280",
   "metadata": {},
   "source": [
    "## Underrstanding Variables"
   ]
  },
  {
   "cell_type": "markdown",
   "id": "b45eaf5f-968e-4862-86ad-84f24a3e6dd7",
   "metadata": {},
   "source": [
    "Q: Write a Python program to create two variables, assign integer values to them and add them\n",
    "using \"+\" operator to store the result in another variable and print it."
   ]
  },
  {
   "cell_type": "code",
   "execution_count": 3,
   "id": "30092824-be8f-4fcf-a94a-18782e84aa45",
   "metadata": {},
   "outputs": [
    {
     "name": "stdout",
     "output_type": "stream",
     "text": [
      "55\n"
     ]
    }
   ],
   "source": [
    "a = 10\n",
    "b = 45\n",
    "c = a + b\n",
    "print(c)"
   ]
  },
  {
   "cell_type": "markdown",
   "id": "cfefa190-59ea-4881-a50d-d23fa7d59745",
   "metadata": {},
   "source": [
    "## Understanding tokens"
   ]
  },
  {
   "cell_type": "markdown",
   "id": "fac41114-569f-419a-8dde-679a46462961",
   "metadata": {},
   "source": [
    "Python breaks every logical line into a set of elementary lexical elements known as <b>Token</b>"
   ]
  },
  {
   "cell_type": "markdown",
   "id": "7d694e25-50ff-497a-81d9-05136161c062",
   "metadata": {},
   "source": [
    "Q: Write a Python program to create two variables, assign random values to them and add them\n",
    "using the \"+\" operator to store the result in another variable and print it."
   ]
  },
  {
   "cell_type": "code",
   "execution_count": 22,
   "id": "ad3972aa-ce6d-4759-8707-4109e69c5f19",
   "metadata": {},
   "outputs": [
    {
     "name": "stdout",
     "output_type": "stream",
     "text": [
      "edureka! 10\n"
     ]
    }
   ],
   "source": [
    "a= \"edureka! \"\n",
    "b = \"10\"\n",
    "c = a+b\n",
    "print(c)"
   ]
  }
 ],
 "metadata": {
  "kernelspec": {
   "display_name": "Python 3 (ipykernel)",
   "language": "python",
   "name": "python3"
  },
  "language_info": {
   "codemirror_mode": {
    "name": "ipython",
    "version": 3
   },
   "file_extension": ".py",
   "mimetype": "text/x-python",
   "name": "python",
   "nbconvert_exporter": "python",
   "pygments_lexer": "ipython3",
   "version": "3.11.7"
  }
 },
 "nbformat": 4,
 "nbformat_minor": 5
}
