{
 "cells": [
  {
   "cell_type": "markdown",
   "id": "e7fbab91-c680-42bb-9cb2-df8537a8abd1",
   "metadata": {},
   "source": [
    "## Understanding Array Manipulation - I\n",
    "\n",
    "Q: Define a NumPy array with 4*5 dimensions, and swap the array's dimensions to make\n",
    "\n",
    "it 5*4 using suitable functions."
   ]
  },
  {
   "cell_type": "code",
   "execution_count": 6,
   "id": "c3d7fd80-aef5-4a16-92ff-6907ac0da07f",
   "metadata": {},
   "outputs": [
    {
     "name": "stdout",
     "output_type": "stream",
     "text": [
      "Original Array:\n",
      "[ 0  1  2  3  4  5  6  7  8  9 10 11 12 13 14 15 16 17 18 19]\n",
      "Reshaped Array:\n",
      "[[ 0  1  2  3  4]\n",
      " [ 5  6  7  8  9]\n",
      " [10 11 12 13 14]\n",
      " [15 16 17 18 19]]\n",
      "Transpose of Array:\n",
      "[[ 0  5 10 15]\n",
      " [ 1  6 11 16]\n",
      " [ 2  7 12 17]\n",
      " [ 3  8 13 18]\n",
      " [ 4  9 14 19]]\n"
     ]
    }
   ],
   "source": [
    "import numpy as np\n",
    "\n",
    "arr = np.arange(20)\n",
    "\n",
    "a = arr.reshape(4,5)\n",
    "\n",
    "b = np.transpose(a)\n",
    "\n",
    "print(\"Original Array:\")\n",
    "print(arr)\n",
    "\n",
    "print(\"Reshaped Array:\")\n",
    "print(a)\n",
    "\n",
    "print(\"Transpose of Array:\")\n",
    "print(b)"
   ]
  },
  {
   "cell_type": "markdown",
   "id": "09a41474-7c7a-46c2-a9a3-56c7fd48b4ab",
   "metadata": {},
   "source": [
    "## Understanding Array Manipulation - II\n",
    "\n",
    "Q: Write a Python program to create two 2-dimensional arrays and apply hstack(), vstack(),\n",
    "\n",
    "concatenate(), and split() functions to them to get the output."
   ]
  },
  {
   "cell_type": "code",
   "execution_count": 34,
   "id": "32d26a77-cfb5-4518-93b5-63807d3a81ac",
   "metadata": {},
   "outputs": [
    {
     "name": "stdout",
     "output_type": "stream",
     "text": [
      "First array is:\n",
      "[[1 2]\n",
      " [3 4]]\n",
      "Second array is:\n",
      "[[6 7]\n",
      " [8 9]]\n",
      "Applying hstack() function:\n",
      "[[1 2 6 7]\n",
      " [3 4 8 9]]\n",
      "Applying vstack() function:\n",
      "[[1 2]\n",
      " [3 4]\n",
      " [6 7]\n",
      " [8 9]]\n",
      "Applying concatenate() function:\n",
      "[[1 2]\n",
      " [3 4]\n",
      " [6 7]\n",
      " [8 9]]\n",
      "Applying split() function:\n",
      "[array([[1, 2, 6, 7]]), array([[3, 4, 8, 9]])]\n"
     ]
    }
   ],
   "source": [
    "x = np.array([[1,2],[3,4]])\n",
    "y = np.array([[6,7],[8,9]])\n",
    "\n",
    "print(\"First array is:\")\n",
    "print(x)\n",
    "\n",
    "print(\"Second array is:\")\n",
    "print(y)\n",
    "\n",
    "print(\"Applying hstack() function:\")\n",
    "hstack = np.hstack((x,y))\n",
    "print(hstack)\n",
    "\n",
    "print(\"Applying vstack() function:\")\n",
    "vstack = np.vstack((x,y))\n",
    "print(vstack)\n",
    "\n",
    "print(\"Applying concatenate() function:\")\n",
    "concatenate = np.concatenate((x,y),axis=0)\n",
    "print(concatenate)\n",
    "\n",
    "print(\"Applying split() function:\")\n",
    "hsplit = np.split(hstack,2)\n",
    "print(hsplit)"
   ]
  }
 ],
 "metadata": {
  "kernelspec": {
   "display_name": "Python 3 (ipykernel)",
   "language": "python",
   "name": "python3"
  },
  "language_info": {
   "codemirror_mode": {
    "name": "ipython",
    "version": 3
   },
   "file_extension": ".py",
   "mimetype": "text/x-python",
   "name": "python",
   "nbconvert_exporter": "python",
   "pygments_lexer": "ipython3",
   "version": "3.11.7"
  }
 },
 "nbformat": 4,
 "nbformat_minor": 5
}
