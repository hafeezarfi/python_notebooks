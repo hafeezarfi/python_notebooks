{
 "cells": [
  {
   "cell_type": "markdown",
   "id": "511449bf-c463-401e-99a0-19e007ed51ed",
   "metadata": {},
   "source": [
    "# Numpy Array\n",
    "\n",
    "- Element by element operation\n",
    "- Multidimensional Array\n",
    "- Mathematical operation on large dataset ehich is executed efficiently with less code\n",
    "- Method for processing array\n",
    "\n",
    "Numpy is the foundation library for scientific computation in Python\n",
    "\n",
    "It includes the following:\n",
    "\n",
    "- A powerfuln n-dimensional array\n",
    "- Sophisticated Array\n",
    "- Tools for integrating other languages\n",
    "\n",
    "## Understanding NumPy Arrays\n",
    "\n",
    "Q: Write a Python program that prints odd numbers from 1 to 30 using the Numpy array.\n",
    "Also, print the data type of output."
   ]
  },
  {
   "cell_type": "code",
   "execution_count": 2,
   "id": "1b9ad703-c92d-4f9e-9cb5-037f560f084a",
   "metadata": {},
   "outputs": [
    {
     "name": "stdout",
     "output_type": "stream",
     "text": [
      "[ 1  3  5  7  9 11 13 15 17 19 21 23 25 27 29]\n",
      "<class 'numpy.ndarray'>\n"
     ]
    }
   ],
   "source": [
    "import numpy as np\n",
    "\n",
    "arr = np.arange(1,30,2)\n",
    "\n",
    "print(arr)\n",
    "\n",
    "print(type(arr))"
   ]
  },
  {
   "cell_type": "markdown",
   "id": "cf665c76-1eae-4a41-ab9a-c56ebcabbdb9",
   "metadata": {},
   "source": [
    "## Size Comparision\n",
    "\n",
    "Q: Write a Python program to declare a list and NumPy array(1-D, 2-D, and 3-D) and\n",
    "\n",
    "compare the size of the list and the arrays. Also, compare the size of each element\n",
    "\n",
    "in the list and the arrays (in terms of memory occupancy)."
   ]
  },
  {
   "cell_type": "code",
   "execution_count": 15,
   "id": "13e96ded-bd66-4fa5-a42f-565361e227e3",
   "metadata": {},
   "outputs": [
    {
     "name": "stdout",
     "output_type": "stream",
     "text": [
      "Size of each element of 1-D list in bytes: 4\n",
      "Size of the whole 1-D list in bytes: 36\n",
      "Size of each element of 2-D list in bytes: 4\n",
      "Size of the whole 2-D list in bytes: 32\n",
      "Size of each element of 3-D list in bytes: 4\n",
      "Size of whole 3-D list in bytes: 32\n"
     ]
    }
   ],
   "source": [
    "import numpy as np\n",
    "a = np.array([1,2,3,4,5,6,7,8,9])\n",
    "b = np.array([[1,2,3,4],[5,6,7,8]])\n",
    "c = np.array([[[1,2,3,4]],[[5,6,7,8]]])\n",
    "\n",
    "print(\"Size of each element of 1-D list in bytes:\",a.itemsize)\n",
    "print(\"Size of the whole 1-D list in bytes:\",(a.itemsize*a.size))\n",
    "print(\"Size of each element of 2-D list in bytes:\",b.itemsize)\n",
    "print(\"Size of the whole 2-D list in bytes:\",(b.itemsize*b.size))\n",
    "print(\"Size of each element of 3-D list in bytes:\",c.itemsize)\n",
    "print(\"Size of whole 3-D list in bytes:\",(c.itemsize*c.size))"
   ]
  },
  {
   "cell_type": "code",
   "execution_count": null,
   "id": "9a93f8a8-4103-400d-87ce-c27380f4d41a",
   "metadata": {},
   "outputs": [],
   "source": []
  }
 ],
 "metadata": {
  "kernelspec": {
   "display_name": "Python 3 (ipykernel)",
   "language": "python",
   "name": "python3"
  },
  "language_info": {
   "codemirror_mode": {
    "name": "ipython",
    "version": 3
   },
   "file_extension": ".py",
   "mimetype": "text/x-python",
   "name": "python",
   "nbconvert_exporter": "python",
   "pygments_lexer": "ipython3",
   "version": "3.11.7"
  }
 },
 "nbformat": 4,
 "nbformat_minor": 5
}
