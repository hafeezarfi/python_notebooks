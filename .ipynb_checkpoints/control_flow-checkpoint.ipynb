{
 "cells": [
  {
   "cell_type": "markdown",
   "id": "482ad872-f809-405b-bbdf-211488f2ede0",
   "metadata": {},
   "source": [
    "## Vowel or Cononant"
   ]
  },
  {
   "cell_type": "markdown",
   "id": "63827066-1564-408b-977d-4dd327b9dddd",
   "metadata": {},
   "source": [
    "Q: Write a python program that takes a character as input from the user and prints whether\n",
    "the character entered by the user is a vowel or a consonant."
   ]
  },
  {
   "cell_type": "code",
   "execution_count": 1,
   "id": "f6e53e7d-4fd4-4253-8094-5b4af56d0bca",
   "metadata": {},
   "outputs": [
    {
     "name": "stdin",
     "output_type": "stream",
     "text": [
      "Hello User, Please Enter a Character:  \n"
     ]
    },
    {
     "name": "stdout",
     "output_type": "stream",
     "text": [
      " is a Consonant\n"
     ]
    }
   ],
   "source": [
    "ch = input(\"Hello User, Please Enter a Character: \")\n",
    "if ch=='a' or ch=='A' or ch=='e' or ch=='E' or ch=='i' or ch=='I' or ch=='o' or ch=='O' or ch=='u' or ch=='U':\n",
    "    print(ch,\"is a Vowel\")\n",
    "else:\n",
    "    print(ch,\"is a Consonant\")"
   ]
  },
  {
   "cell_type": "markdown",
   "id": "567b5c98-817e-4253-8537-1db5b2075ea6",
   "metadata": {},
   "source": [
    "## Multiplication Table"
   ]
  },
  {
   "cell_type": "markdown",
   "id": "d72b30f3-979d-4680-8a30-c38ab5cafb06",
   "metadata": {},
   "source": [
    "Q: Write a Python program that takes an integer as input and prints a multiplication table\n",
    "from 1 to 10."
   ]
  },
  {
   "cell_type": "code",
   "execution_count": 7,
   "id": "7fcbad88-762b-48e2-871d-d9ee65a38479",
   "metadata": {
    "scrolled": true
   },
   "outputs": [
    {
     "name": "stdin",
     "output_type": "stream",
     "text": [
      "Please Enter a Number:  3\n"
     ]
    },
    {
     "name": "stdout",
     "output_type": "stream",
     "text": [
      "3 x 1 = 3\n",
      "3 x 2 = 6\n",
      "3 x 3 = 9\n",
      "3 x 4 = 12\n",
      "3 x 5 = 15\n",
      "3 x 6 = 18\n",
      "3 x 7 = 21\n",
      "3 x 8 = 24\n",
      "3 x 9 = 27\n",
      "3 x 10 = 30\n"
     ]
    }
   ],
   "source": [
    "integer = int(input(\"Please Enter a Number: \"))\n",
    "\n",
    "for i in range(1,11):\n",
    "    print(integer,\"x\",i,\"=\",integer*i)"
   ]
  },
  {
   "cell_type": "code",
   "execution_count": null,
   "id": "2bc9a98b-6070-4d57-bb3a-50c312dc84df",
   "metadata": {},
   "outputs": [],
   "source": []
  }
 ],
 "metadata": {
  "kernelspec": {
   "display_name": "Python 3 (ipykernel)",
   "language": "python",
   "name": "python3"
  },
  "language_info": {
   "codemirror_mode": {
    "name": "ipython",
    "version": 3
   },
   "file_extension": ".py",
   "mimetype": "text/x-python",
   "name": "python",
   "nbconvert_exporter": "python",
   "pygments_lexer": "ipython3",
   "version": "3.11.7"
  }
 },
 "nbformat": 4,
 "nbformat_minor": 5
}
