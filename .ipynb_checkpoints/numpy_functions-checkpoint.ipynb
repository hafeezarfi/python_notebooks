{
 "cells": [
  {
   "cell_type": "markdown",
   "id": "cf691450-d80e-4876-b79d-44683028fc77",
   "metadata": {},
   "source": [
    "## Understanding Array Functions\n",
    "\n",
    "Q: Write a Python program that takes the speeds of any vehicle to store it in a NumPy\n",
    "\n",
    "array and calculates the average speed."
   ]
  },
  {
   "cell_type": "code",
   "execution_count": 2,
   "id": "00b2c418-b11e-4792-bd3e-81255c2b5cfb",
   "metadata": {},
   "outputs": [
    {
     "name": "stdin",
     "output_type": "stream",
     "text": [
      "What number of speeds you want to enter? 5\n",
      "Enter the speeds in Km/hr 92\n",
      "Enter the speeds in Km/hr 76\n",
      "Enter the speeds in Km/hr 83\n",
      "Enter the speeds in Km/hr 78\n",
      "Enter the speeds in Km/hr 84\n"
     ]
    },
    {
     "name": "stdout",
     "output_type": "stream",
     "text": [
      "The Average speed is: 82.6 Km/hr\n"
     ]
    }
   ],
   "source": [
    "import numpy as np\n",
    "n = int(input(\"What number of speeds you want to enter?\"))\n",
    "\n",
    "speeds = []\n",
    "for i in range(n):\n",
    "    sp = int(input(\"Enter the speeds in Km/hr\"))\n",
    "    speeds.append(sp)\n",
    "\n",
    "speedsNp = np.array(speeds)\n",
    "\n",
    "print(\"The Average speed is:\",speedsNp.mean(),\"Km/hr\")\n"
   ]
  },
  {
   "cell_type": "markdown",
   "id": "db4910f7-09a9-4e61-b583-318d3da4671c",
   "metadata": {},
   "source": [
    "## Array Indexing/Slicing\n",
    "\n",
    "Q: Write a Python program to generate a 3-D array with  integers of your choice, perform indexing, and\n",
    "\n",
    "print the first two rows and last two columns of the array\n",
    "\n",
    "<b>Note:</b> Use NumPy arange() function to generate a random array."
   ]
  },
  {
   "cell_type": "code",
   "execution_count": 17,
   "id": "ba975cf9-d1dc-49b7-a26f-aa04a0e2dccb",
   "metadata": {},
   "outputs": [
    {
     "name": "stdout",
     "output_type": "stream",
     "text": [
      "The array is:\n",
      "[[ 0  1  2  3]\n",
      " [ 4  5  6  7]\n",
      " [ 8  9 10 11]\n",
      " [12 13 14 15]\n",
      " [16 17 18 19]]\n",
      "The first two rows are:\n",
      "[[0 1 2 3]\n",
      " [4 5 6 7]]\n",
      "The last two columns are:\n",
      "[[ 2  3]\n",
      " [ 6  7]\n",
      " [10 11]\n",
      " [14 15]\n",
      " [18 19]]\n"
     ]
    }
   ],
   "source": [
    "a = np.arange(20).reshape(5,4)\n",
    "\n",
    "print(\"The array is:\")\n",
    "print(a)\n",
    "print(\"The first two rows are:\")\n",
    "print(a[:2,:])\n",
    "print(\"The last two columns are:\")\n",
    "print(a[:,2:])"
   ]
  },
  {
   "cell_type": "code",
   "execution_count": null,
   "id": "c44c1d77-f42c-4040-92e2-fa881368cf7a",
   "metadata": {},
   "outputs": [],
   "source": []
  }
 ],
 "metadata": {
  "kernelspec": {
   "display_name": "Python 3 (ipykernel)",
   "language": "python",
   "name": "python3"
  },
  "language_info": {
   "codemirror_mode": {
    "name": "ipython",
    "version": 3
   },
   "file_extension": ".py",
   "mimetype": "text/x-python",
   "name": "python",
   "nbconvert_exporter": "python",
   "pygments_lexer": "ipython3",
   "version": "3.11.7"
  }
 },
 "nbformat": 4,
 "nbformat_minor": 5
}
