{
 "cells": [
  {
   "cell_type": "markdown",
   "id": "b1a010a6-7d37-4b66-8fea-9fd8c6a184ef",
   "metadata": {},
   "source": [
    "## Measures of Dispersion\n",
    "\n",
    "Q: Load the \"HRdataset_v14.csv\" dataset into a DataFrame and group the data based on the \"Department\" column.\n",
    "\n",
    "From the grouped DataFrame and perform the following tasks:\n",
    "\n",
    "1. Calculate the Mean and Median, of the \"Salary\" column.\n",
    "2. Find out which Department has the highest number of employees\n",
    "3. Calculate the standard deviation and variance of the \"Salary\" column\n",
    "4. Find the interquartile range of the \"Salary\" column\n",
    "5. Find skewness and kurtosis of the original dataset\n",
    "6. Find the z-score of the \"Salary\" column\n",
    "7. FInd the 30th percentile of the \"Salary\" column\n",
    "8. Find the Quartiles of the \"GenderID\" column (You can set quartile values of your choice)"
   ]
  },
  {
   "cell_type": "code",
   "execution_count": null,
   "id": "84ead761-1fd2-4169-9c63-b0766b81cddc",
   "metadata": {},
   "outputs": [],
   "source": [
    "# No Dataset provided"
   ]
  }
 ],
 "metadata": {
  "kernelspec": {
   "display_name": "Python 3 (ipykernel)",
   "language": "python",
   "name": "python3"
  },
  "language_info": {
   "codemirror_mode": {
    "name": "ipython",
    "version": 3
   },
   "file_extension": ".py",
   "mimetype": "text/x-python",
   "name": "python",
   "nbconvert_exporter": "python",
   "pygments_lexer": "ipython3",
   "version": "3.11.7"
  }
 },
 "nbformat": 4,
 "nbformat_minor": 5
}
