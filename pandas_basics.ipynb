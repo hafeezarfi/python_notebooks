{
 "cells": [
  {
   "cell_type": "markdown",
   "id": "c092d1c2-bc05-42d7-b893-45bcf75dcff0",
   "metadata": {},
   "source": [
    "## Creating Pandas Series\n",
    "\n",
    "Q:  Write a Python program to create two lists - one for contries and another for country codes.\n",
    "\n",
    "Create a pandas series from these two lists with the codes as the index. Print the length, shape,\n",
    "\n",
    "and size of the series too."
   ]
  },
  {
   "cell_type": "code",
   "execution_count": 4,
   "id": "30c17215-efd9-4d6f-abf3-a66c89798996",
   "metadata": {},
   "outputs": [
    {
     "name": "stdout",
     "output_type": "stream",
     "text": [
      "The series is:\n",
      "IND        India\n",
      "CAN       Canada\n",
      "AUS    Australia\n",
      "JAP        Japan\n",
      "GER      Germany\n",
      "FRA       France\n",
      "dtype: object\n",
      "Length of the series is:  6\n",
      "Shape of the series is:  (6,)\n",
      "Size of the series is:  6\n"
     ]
    }
   ],
   "source": [
    "import pandas as pd\n",
    "\n",
    "countries = {'IND':'India', 'CAN':'Canada', 'AUS':'Australia', 'JAP':'Japan', 'GER':'Germany', 'FRA':'France'}\n",
    "series = pd.Series(countries)\n",
    "\n",
    "print(\"The series is:\")\n",
    "print(series)\n",
    "\n",
    "print(\"Length of the series is: \",series.size)\n",
    "print(\"Shape of the series is: \",series.shape)\n",
    "print(\"Size of the series is: \", series.size)"
   ]
  },
  {
   "cell_type": "markdown",
   "id": "b0db539a-ea7a-4fd5-9346-692a831f0329",
   "metadata": {},
   "source": [
    "## Creating Pandas DataFrame\n",
    "\n",
    "Q: Write a Python program that reads Name, Age, and Roll no. as input from the user\n",
    "\n",
    "and stores it into a DataFrame, and prints the DataFrame you have created."
   ]
  },
  {
   "cell_type": "code",
   "execution_count": 10,
   "id": "e7082edd-1055-4859-8aa7-5aeb8587a084",
   "metadata": {},
   "outputs": [
    {
     "name": "stdin",
     "output_type": "stream",
     "text": [
      "Enter the number of Student records you want to store:  2\n",
      "Enter the Name of the student:  Hafeez\n",
      "Enter the Age of the student in years:  13\n",
      "Enter the Roll no. of the student  13\n",
      "Enter the Name of the student:  Azman\n",
      "Enter the Age of the student in years:  13\n",
      "Enter the Roll no. of the student  34\n"
     ]
    },
    {
     "name": "stdout",
     "output_type": "stream",
     "text": [
      "     Name  Age  Roll No.\n",
      "0  Hafeez   13        13\n",
      "1   Azman   13        34\n"
     ]
    }
   ],
   "source": [
    "n = int(input(\"Enter the number of Student records you want to store: \"))\n",
    "\n",
    "list = []\n",
    "\n",
    "for i in range(n):\n",
    "    name = input(\"Enter the Name of the student: \")\n",
    "    age = int(input(\"Enter the Age of the student in years: \"))\n",
    "    roll = int(input(\"Enter the Roll no. of the student \"))\n",
    "    dict = {'Name':name,'Age':age,'Roll No.':roll}\n",
    "    list.append(dict)\n",
    "\n",
    "dataFrame = pd.DataFrame(list)\n",
    "print(\"The DataFrame is-____________\")\n",
    "print(dataFrame)"
   ]
  },
  {
   "cell_type": "code",
   "execution_count": null,
   "id": "619b6cf9-a370-4e77-9daa-afb2e52c451b",
   "metadata": {},
   "outputs": [],
   "source": []
  }
 ],
 "metadata": {
  "kernelspec": {
   "display_name": "Python 3 (ipykernel)",
   "language": "python",
   "name": "python3"
  },
  "language_info": {
   "codemirror_mode": {
    "name": "ipython",
    "version": 3
   },
   "file_extension": ".py",
   "mimetype": "text/x-python",
   "name": "python",
   "nbconvert_exporter": "python",
   "pygments_lexer": "ipython3",
   "version": "3.11.7"
  }
 },
 "nbformat": 4,
 "nbformat_minor": 5
}
