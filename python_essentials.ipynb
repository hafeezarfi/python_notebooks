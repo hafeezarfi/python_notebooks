{
 "cells": [
  {
   "cell_type": "markdown",
   "id": "7a96fdfe-1109-4557-ba87-12559a611e11",
   "metadata": {},
   "source": [
    "## Variables"
   ]
  },
  {
   "cell_type": "markdown",
   "id": "52b85973-7ac1-49b2-a512-f9613a4ad64b",
   "metadata": {},
   "source": [
    "Variable are reserved memory locations to store values."
   ]
  },
  {
   "cell_type": "markdown",
   "id": "c2a46687-f448-4b27-a0a9-6f40d1824b18",
   "metadata": {},
   "source": [
    "## The Percentage Caculator"
   ]
  },
  {
   "cell_type": "markdown",
   "id": "c23d1126-5707-411d-af3c-318f7a93a0bf",
   "metadata": {},
   "source": [
    "Q: Write a python program that takes marks as input for six subjects, with maximum marks being\n",
    "600, and prints total marks, average marks, and percentages obtained by student."
   ]
  },
  {
   "cell_type": "code",
   "execution_count": 3,
   "id": "7c5dcd17-0427-458b-9c9a-f8a45b899622",
   "metadata": {},
   "outputs": [
    {
     "name": "stdout",
     "output_type": "stream",
     "text": [
      "Enter the marks of all six subjects, one by one ::\n"
     ]
    },
    {
     "name": "stdin",
     "output_type": "stream",
     "text": [
      "Enter the marks obtained out of 100 in subject-1 76\n",
      "Enter the marks obtained out of 100 in subject-2 56\n",
      "Enter the marks obtained out of 100 in subject-3 78\n",
      "Enter the marks obtained out of 100 in subject-4 75\n",
      "Enter the marks obtained out of 100 in subject-5 69\n",
      "Enter the marks obtained out of 100 in subject-6 74\n"
     ]
    },
    {
     "name": "stdout",
     "output_type": "stream",
     "text": [
      "Total marks obtained: 428\n",
      "Average marks obtained:  71.33333333333333\n",
      "Percentage obtained:  71.33333333333334\n"
     ]
    }
   ],
   "source": [
    "print(\"Enter the marks of all six subjects, one by one ::\")\n",
    "a = int(input(\"Enter the marks obtained out of 100 in subject-1\"))\n",
    "b = int(input(\"Enter the marks obtained out of 100 in subject-2\"))\n",
    "c = int(input(\"Enter the marks obtained out of 100 in subject-3\"))\n",
    "d = int(input(\"Enter the marks obtained out of 100 in subject-4\"))\n",
    "e = int(input(\"Enter the marks obtained out of 100 in subject-5\"))\n",
    "f = int(input(\"Enter the marks obtained out of 100 in subject-6\"))\n",
    "total_marks = a+b+c+d+e+f\n",
    "average_marks = total_marks/6.0\n",
    "percentage = (total_marks/600)*100\n",
    "print(\"Total marks obtained:\", total_marks)\n",
    "print(\"Average marks obtained: \",average_marks)\n",
    "print(\"Percentage obtained: \",percentage)"
   ]
  },
  {
   "cell_type": "markdown",
   "id": "61730f37-54b7-445e-9b97-b8c90df5d19b",
   "metadata": {},
   "source": [
    "## The Score Card"
   ]
  },
  {
   "cell_type": "markdown",
   "id": "d5281038-fb12-4dea-9804-bc9fd14bd5e0",
   "metadata": {},
   "source": [
    "Declare a nested list with Exam scores and Student names as shown here - \"score=[[510,'John'],[280,'Lucy']......]\".\n",
    "Write a python program to sort the list based on scores and print the students' names with first and second-highest scores."
   ]
  },
  {
   "cell_type": "code",
   "execution_count": 11,
   "id": "a90ba38c-2ede-404b-8e57-ca83b0a78834",
   "metadata": {},
   "outputs": [
    {
     "name": "stdout",
     "output_type": "stream",
     "text": [
      "[[558, 'Vishal'], [255, 'Vinay'], [65, 'Harshit'], [64, 'Jay'], [55, 'Sachin']]\n",
      "Student with highest marks is: Vishal\n",
      "And the student with second highest marks is: Vinay\n"
     ]
    }
   ],
   "source": [
    "a = [[64,'Jay'],[55,'Sachin'],[255,'Vinay'],[558,'Vishal'],[65,'Harshit']]\n",
    "n = len(a)\n",
    "\n",
    "for i in range(n):\n",
    "    swapped = False\n",
    "    for j in range(0,n-i-1):\n",
    "        if a[j][0] > a[j+1][0]:\n",
    "            a[j],a[j+1] = a[j+1], a[j]\n",
    "            swapped = True\n",
    "    if swapped==False:\n",
    "        break\n",
    "b = a[::-1]\n",
    "print(b)\n",
    "print(\"Student with highest marks is:\",b[0][1])\n",
    "print(\"And the student with second highest marks is:\",b[1][1])"
   ]
  },
  {
   "cell_type": "code",
   "execution_count": null,
   "id": "0563dfb3-c965-417d-89c6-b44ca4dcd179",
   "metadata": {},
   "outputs": [],
   "source": []
  }
 ],
 "metadata": {
  "kernelspec": {
   "display_name": "Python 3 (ipykernel)",
   "language": "python",
   "name": "python3"
  },
  "language_info": {
   "codemirror_mode": {
    "name": "ipython",
    "version": 3
   },
   "file_extension": ".py",
   "mimetype": "text/x-python",
   "name": "python",
   "nbconvert_exporter": "python",
   "pygments_lexer": "ipython3",
   "version": "3.11.7"
  }
 },
 "nbformat": 4,
 "nbformat_minor": 5
}
