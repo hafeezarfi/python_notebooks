{
 "cells": [
  {
   "cell_type": "markdown",
   "id": "5daf33b7-bc96-4dfc-a0c2-7fd482aa5764",
   "metadata": {},
   "source": [
    "## Measures of Central Tendency - I\n",
    "\n",
    "Q: Write a Python program to declare a 1-D array. With the help of the statistics library, calculate the Mean, Median, and Mode.\n"
   ]
  },
  {
   "cell_type": "code",
   "execution_count": 2,
   "id": "387a8b4a-df68-4485-bdde-4c6c67eff5b5",
   "metadata": {},
   "outputs": [
    {
     "name": "stdout",
     "output_type": "stream",
     "text": [
      "The Array is: \n",
      "[1, 2, 3, 4, 5, 6, 2, 3, 4, 5, 5, 5, 5]\n"
     ]
    }
   ],
   "source": [
    "arr = [1,2,3,4,5,6,2,3,4,5,5,5,5]\n",
    "\n",
    "print(\"The Array is: \")\n",
    "print(arr)"
   ]
  },
  {
   "cell_type": "code",
   "execution_count": 10,
   "id": "b49e7c9f-57f3-4aaf-bcef-71f362516444",
   "metadata": {},
   "outputs": [
    {
     "name": "stdout",
     "output_type": "stream",
     "text": [
      "Mean of the Array is:\n",
      "3.8461538461538463\n",
      "Median of the Array is:\n",
      "4\n",
      "Mode of the Array is:\n",
      "5\n"
     ]
    }
   ],
   "source": [
    "import statistics as stats\n",
    "\n",
    "# mean of array\n",
    "mean = stats.mean(arr)\n",
    "# median of array\n",
    "median = stats.median(arr)\n",
    "# mode of the array\n",
    "mode = stats.mode(arr)\n",
    "\n",
    "print(\"Mean of the Array is:\")\n",
    "print(mean)\n",
    "print(\"Median of the Array is:\")\n",
    "print(median)\n",
    "print(\"Mode of the Array is:\")\n",
    "print(mode)"
   ]
  },
  {
   "cell_type": "markdown",
   "id": "d6251d04-0bf0-4c7c-8c2d-33f5eb85e614",
   "metadata": {},
   "source": [
    "## Measures of Central Tendency - II\n",
    "\n",
    "Q: Write a Python program to declare a DataFrame as shown in the dataset section below and calculate the Mean, Median and Mode\n",
    "\n",
    "of the entrire DataFrame"
   ]
  },
  {
   "cell_type": "code",
   "execution_count": 17,
   "id": "d7be05e2-1322-45f2-abec-852b06a3f101",
   "metadata": {},
   "outputs": [
    {
     "data": {
      "text/html": [
       "<div>\n",
       "<style scoped>\n",
       "    .dataframe tbody tr th:only-of-type {\n",
       "        vertical-align: middle;\n",
       "    }\n",
       "\n",
       "    .dataframe tbody tr th {\n",
       "        vertical-align: top;\n",
       "    }\n",
       "\n",
       "    .dataframe thead th {\n",
       "        text-align: right;\n",
       "    }\n",
       "</style>\n",
       "<table border=\"1\" class=\"dataframe\">\n",
       "  <thead>\n",
       "    <tr style=\"text-align: right;\">\n",
       "      <th></th>\n",
       "      <th>Apple</th>\n",
       "      <th>Orange</th>\n",
       "      <th>Banana</th>\n",
       "      <th>Pear</th>\n",
       "    </tr>\n",
       "  </thead>\n",
       "  <tbody>\n",
       "    <tr>\n",
       "      <th>Bag1</th>\n",
       "      <td>10</td>\n",
       "      <td>20</td>\n",
       "      <td>30</td>\n",
       "      <td>40</td>\n",
       "    </tr>\n",
       "    <tr>\n",
       "      <th>Bag2</th>\n",
       "      <td>7</td>\n",
       "      <td>14</td>\n",
       "      <td>21</td>\n",
       "      <td>28</td>\n",
       "    </tr>\n",
       "    <tr>\n",
       "      <th>Bag3</th>\n",
       "      <td>55</td>\n",
       "      <td>15</td>\n",
       "      <td>8</td>\n",
       "      <td>12</td>\n",
       "    </tr>\n",
       "    <tr>\n",
       "      <th>Bag4</th>\n",
       "      <td>15</td>\n",
       "      <td>14</td>\n",
       "      <td>1</td>\n",
       "      <td>8</td>\n",
       "    </tr>\n",
       "    <tr>\n",
       "      <th>Bag5</th>\n",
       "      <td>7</td>\n",
       "      <td>1</td>\n",
       "      <td>1</td>\n",
       "      <td>8</td>\n",
       "    </tr>\n",
       "    <tr>\n",
       "      <th>Bag6</th>\n",
       "      <td>5</td>\n",
       "      <td>4</td>\n",
       "      <td>9</td>\n",
       "      <td>2</td>\n",
       "    </tr>\n",
       "  </tbody>\n",
       "</table>\n",
       "</div>"
      ],
      "text/plain": [
       "      Apple  Orange  Banana  Pear\n",
       "Bag1     10      20      30    40\n",
       "Bag2      7      14      21    28\n",
       "Bag3     55      15       8    12\n",
       "Bag4     15      14       1     8\n",
       "Bag5      7       1       1     8\n",
       "Bag6      5       4       9     2"
      ]
     },
     "execution_count": 17,
     "metadata": {},
     "output_type": "execute_result"
    }
   ],
   "source": [
    "import pandas as pd\n",
    "import statistics as stats\n",
    "\n",
    "data = {\"Apple\":[10,7,55,15,7,5],\n",
    "        \"Orange\":[20,14,15,14,1,4],\n",
    "        \"Banana\":[30,21,8,1,1,9],\n",
    "        \"Pear\":[40,28,12,8,8,2]\n",
    "       }\n",
    "\n",
    "df = pd.DataFrame(data,index=[\"Bag1\",\"Bag2\",\"Bag3\",\"Bag4\",\"Bag5\",\"Bag6\"])\n",
    "df"
   ]
  },
  {
   "cell_type": "code",
   "execution_count": 23,
   "id": "6208aa92-480e-4e7a-bd3c-969473d69e6e",
   "metadata": {},
   "outputs": [
    {
     "name": "stdout",
     "output_type": "stream",
     "text": [
      "Calculating the Mean\n",
      "Apple     16.500000\n",
      "Orange    11.333333\n",
      "Banana    11.666667\n",
      "Pear      16.333333\n",
      "dtype: float64\n"
     ]
    }
   ],
   "source": [
    "mean = df.mean()\n",
    "print(\"Calculating the Mean\")\n",
    "print(mean)"
   ]
  },
  {
   "cell_type": "code",
   "execution_count": 25,
   "id": "75bed3a5-98c2-48b8-813f-c161ec15edd8",
   "metadata": {},
   "outputs": [
    {
     "name": "stdout",
     "output_type": "stream",
     "text": [
      "Calculating the Median\n",
      "Apple      8.5\n",
      "Orange    14.0\n",
      "Banana     8.5\n",
      "Pear      10.0\n",
      "dtype: float64\n"
     ]
    }
   ],
   "source": [
    "median = df.median()\n",
    "print(\"Calculating the Median\")\n",
    "print(median)"
   ]
  },
  {
   "cell_type": "code",
   "execution_count": 27,
   "id": "451ac4c9-3481-4513-b2d3-0b4f1d2d74d6",
   "metadata": {},
   "outputs": [
    {
     "name": "stdout",
     "output_type": "stream",
     "text": [
      "Calculating the Mode\n",
      "   Apple  Orange  Banana  Pear\n",
      "0      7      14       1     8\n"
     ]
    }
   ],
   "source": [
    "mode = df.mode()\n",
    "print(\"Calculating the Mode\")\n",
    "print(mode)"
   ]
  },
  {
   "cell_type": "markdown",
   "id": "234a1ccb-7777-4615-addd-6376bb383d3d",
   "metadata": {},
   "source": [
    "## Measures of Central Tendency - III\n",
    "\n",
    "Q: Load the \"Books.csv\" dataset into a DataFrame and perform the following tasks:\n",
    "\n",
    "1. Perform initial analysis on the dataset using the info() and describe() functions\n",
    "2. Group the data based on the \"Author\" column and calculate the average user ratings and average price, and write them in new columns\n",
    "3. Find out which of the authors have written the maximum number of books"
   ]
  },
  {
   "cell_type": "code",
   "execution_count": 32,
   "id": "644b4241-fc9c-4dca-bfdb-fdc0c32675ec",
   "metadata": {},
   "outputs": [
    {
     "data": {
      "text/html": [
       "<div>\n",
       "<style scoped>\n",
       "    .dataframe tbody tr th:only-of-type {\n",
       "        vertical-align: middle;\n",
       "    }\n",
       "\n",
       "    .dataframe tbody tr th {\n",
       "        vertical-align: top;\n",
       "    }\n",
       "\n",
       "    .dataframe thead th {\n",
       "        text-align: right;\n",
       "    }\n",
       "</style>\n",
       "<table border=\"1\" class=\"dataframe\">\n",
       "  <thead>\n",
       "    <tr style=\"text-align: right;\">\n",
       "      <th></th>\n",
       "      <th>Name</th>\n",
       "      <th>Author</th>\n",
       "      <th>User Rating</th>\n",
       "      <th>Reviews</th>\n",
       "      <th>Price</th>\n",
       "      <th>Year</th>\n",
       "      <th>Genre</th>\n",
       "    </tr>\n",
       "  </thead>\n",
       "  <tbody>\n",
       "    <tr>\n",
       "      <th>0</th>\n",
       "      <td>Act Like a Lady, Think Like a Man: What Men Re...</td>\n",
       "      <td>Steve Harvey</td>\n",
       "      <td>4.6</td>\n",
       "      <td>5013</td>\n",
       "      <td>17</td>\n",
       "      <td>2009</td>\n",
       "      <td>Non Fiction</td>\n",
       "    </tr>\n",
       "    <tr>\n",
       "      <th>1</th>\n",
       "      <td>Arguing with Idiots: How to Stop Small Minds a...</td>\n",
       "      <td>Glenn Beck</td>\n",
       "      <td>4.6</td>\n",
       "      <td>798</td>\n",
       "      <td>5</td>\n",
       "      <td>2009</td>\n",
       "      <td>Non Fiction</td>\n",
       "    </tr>\n",
       "    <tr>\n",
       "      <th>2</th>\n",
       "      <td>Breaking Dawn (The Twilight Saga, Book 4)</td>\n",
       "      <td>Stephenie Meyer</td>\n",
       "      <td>4.6</td>\n",
       "      <td>9769</td>\n",
       "      <td>13</td>\n",
       "      <td>2009</td>\n",
       "      <td>Fiction</td>\n",
       "    </tr>\n",
       "    <tr>\n",
       "      <th>3</th>\n",
       "      <td>Crazy Love: Overwhelmed by a Relentless God</td>\n",
       "      <td>Francis Chan</td>\n",
       "      <td>4.7</td>\n",
       "      <td>1542</td>\n",
       "      <td>14</td>\n",
       "      <td>2009</td>\n",
       "      <td>Non Fiction</td>\n",
       "    </tr>\n",
       "    <tr>\n",
       "      <th>4</th>\n",
       "      <td>Dead And Gone: A Sookie Stackhouse Novel (Sook...</td>\n",
       "      <td>Charlaine Harris</td>\n",
       "      <td>4.6</td>\n",
       "      <td>1541</td>\n",
       "      <td>4</td>\n",
       "      <td>2009</td>\n",
       "      <td>Fiction</td>\n",
       "    </tr>\n",
       "  </tbody>\n",
       "</table>\n",
       "</div>"
      ],
      "text/plain": [
       "                                                Name            Author  \\\n",
       "0  Act Like a Lady, Think Like a Man: What Men Re...      Steve Harvey   \n",
       "1  Arguing with Idiots: How to Stop Small Minds a...        Glenn Beck   \n",
       "2          Breaking Dawn (The Twilight Saga, Book 4)   Stephenie Meyer   \n",
       "3        Crazy Love: Overwhelmed by a Relentless God      Francis Chan   \n",
       "4  Dead And Gone: A Sookie Stackhouse Novel (Sook...  Charlaine Harris   \n",
       "\n",
       "   User Rating  Reviews  Price  Year        Genre  \n",
       "0          4.6     5013     17  2009  Non Fiction  \n",
       "1          4.6      798      5  2009  Non Fiction  \n",
       "2          4.6     9769     13  2009      Fiction  \n",
       "3          4.7     1542     14  2009  Non Fiction  \n",
       "4          4.6     1541      4  2009      Fiction  "
      ]
     },
     "execution_count": 32,
     "metadata": {},
     "output_type": "execute_result"
    }
   ],
   "source": [
    "import pandas as pd\n",
    "import statistics as stats\n",
    "\n",
    "df = pd.read_csv(\"Books.csv\")\n",
    "\n",
    "df.head()"
   ]
  },
  {
   "cell_type": "code",
   "execution_count": 48,
   "id": "9883d90d-816d-4d5a-93d9-14067f8276b3",
   "metadata": {},
   "outputs": [
    {
     "name": "stdout",
     "output_type": "stream",
     "text": [
      "<class 'pandas.core.frame.DataFrame'>\n",
      "RangeIndex: 700 entries, 0 to 699\n",
      "Data columns (total 7 columns):\n",
      " #   Column       Non-Null Count  Dtype  \n",
      "---  ------       --------------  -----  \n",
      " 0   Name         700 non-null    object \n",
      " 1   Author       700 non-null    object \n",
      " 2   User Rating  700 non-null    float64\n",
      " 3   Reviews      700 non-null    int64  \n",
      " 4   Price        700 non-null    int64  \n",
      " 5   Year         700 non-null    int64  \n",
      " 6   Genre        700 non-null    object \n",
      "dtypes: float64(1), int64(3), object(3)\n",
      "memory usage: 38.4+ KB\n",
      "None\n"
     ]
    }
   ],
   "source": [
    "#  1. Perform analysis of dataset using the info() and the describe() functions\n",
    "df_info = df.info()\n",
    "print(df_info)"
   ]
  },
  {
   "cell_type": "code",
   "execution_count": 46,
   "id": "27aeddae-3bd8-49d2-94bf-89eb7f75d515",
   "metadata": {},
   "outputs": [
    {
     "name": "stdout",
     "output_type": "stream",
     "text": [
      "       User Rating        Reviews       Price         Year\n",
      "count   700.000000     700.000000  700.000000   700.000000\n",
      "mean      4.639857   19255.195714   12.700000  2015.500000\n",
      "std       0.218586   23613.443875    9.915162     4.034011\n",
      "min       3.300000      37.000000    0.000000  2009.000000\n",
      "25%       4.500000    4987.250000    7.000000  2012.000000\n",
      "50%       4.700000   10284.000000   11.000000  2015.500000\n",
      "75%       4.800000   23358.000000   15.000000  2019.000000\n",
      "max       4.900000  208917.000000  105.000000  2022.000000\n"
     ]
    }
   ],
   "source": [
    "df_describe = df.describe()\n",
    "print(df_describe)"
   ]
  },
  {
   "cell_type": "code",
   "execution_count": 66,
   "id": "e9b4a90c-cee4-49ec-97e5-04505bb05b98",
   "metadata": {},
   "outputs": [],
   "source": [
    "# 2. Group the data based on the \"Author\" column and calculate the average user ratings and average price\n",
    "# and write them  in new columns\n"
   ]
  },
  {
   "cell_type": "code",
   "execution_count": null,
   "id": "407f574e-e8a6-4110-aebf-8702658f4516",
   "metadata": {},
   "outputs": [],
   "source": []
  }
 ],
 "metadata": {
  "kernelspec": {
   "display_name": "Python 3 (ipykernel)",
   "language": "python",
   "name": "python3"
  },
  "language_info": {
   "codemirror_mode": {
    "name": "ipython",
    "version": 3
   },
   "file_extension": ".py",
   "mimetype": "text/x-python",
   "name": "python",
   "nbconvert_exporter": "python",
   "pygments_lexer": "ipython3",
   "version": "3.11.7"
  }
 },
 "nbformat": 4,
 "nbformat_minor": 5
}
