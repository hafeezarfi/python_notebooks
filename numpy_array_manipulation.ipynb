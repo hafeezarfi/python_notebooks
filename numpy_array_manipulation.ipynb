{
 "cells": [
  {
   "cell_type": "markdown",
   "id": "e7fbab91-c680-42bb-9cb2-df8537a8abd1",
   "metadata": {},
   "source": [
    "## Understanding Array Manipulation - I\n",
    "\n",
    "Q: Define a NumPy array with 4*5 dimensions, and swap the array's dimensions to make\n",
    "\n",
    "it 5*4 using suitable functions."
   ]
  },
  {
   "cell_type": "code",
   "execution_count": 4,
   "id": "c3d7fd80-aef5-4a16-92ff-6907ac0da07f",
   "metadata": {},
   "outputs": [
    {
     "name": "stdout",
     "output_type": "stream",
     "text": [
      "Original Array:\n",
      "[ 0  1  2  3  4  5  6  7  8  9 10 11 12 13 14 15 16 17 18 19]\n",
      "Reshaped Array:\n",
      "[[ 0  1  2  3  4]\n",
      " [ 5  6  7  8  9]\n",
      " [10 11 12 13 14]\n",
      " [15 16 17 18 19]]\n",
      "Transpose of Array:\n",
      "[[ 0  5 10 15]\n",
      " [ 1  6 11 16]\n",
      " [ 2  7 12 17]\n",
      " [ 3  8 13 18]\n",
      " [ 4  9 14 19]]\n"
     ]
    }
   ],
   "source": [
    "import numpy as np\n",
    "\n",
    "arr = np.arange(20)\n",
    "\n",
    "a = arr.reshape(4,5)\n",
    "\n",
    "b = np.transpose(a)\n",
    "\n",
    "print(\"Original Array:\")\n",
    "print(arr)\n",
    "\n",
    "print(\"Reshaped Array:\")\n",
    "print(a)\n",
    "\n",
    "print(\"Transpose of Array:\")\n",
    "print(b)"
   ]
  },
  {
   "cell_type": "markdown",
   "id": "09a41474-7c7a-46c2-a9a3-56c7fd48b4ab",
   "metadata": {},
   "source": [
    "Q: Write a Python program to create two 2-dimensional arrays and apply hstack(), vstack(),\n",
    "\n",
    "concatenate(), and split() functions to them to get the output as shown below.\n",
    "\n"
   ]
  }
 ],
 "metadata": {
  "kernelspec": {
   "display_name": "Python 3 (ipykernel)",
   "language": "python",
   "name": "python3"
  },
  "language_info": {
   "codemirror_mode": {
    "name": "ipython",
    "version": 3
   },
   "file_extension": ".py",
   "mimetype": "text/x-python",
   "name": "python",
   "nbconvert_exporter": "python",
   "pygments_lexer": "ipython3",
   "version": "3.11.7"
  }
 },
 "nbformat": 4,
 "nbformat_minor": 5
}
