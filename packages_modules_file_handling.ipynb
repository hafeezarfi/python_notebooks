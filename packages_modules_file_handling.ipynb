{
 "cells": [
  {
   "cell_type": "markdown",
   "id": "50296752-f833-4333-8b00-b0a0f27851b1",
   "metadata": {},
   "source": [
    "# Packages, Modules and File Handling\n",
    "\n",
    "## Math Quiz\n",
    "\n",
    "Q: Write a python program to create a math quiz that generates math questions using random numbers\n",
    "\n",
    "and operators and asks the user to enter the correct answer, evaluate the answer entered by the user \n",
    "\n",
    "and print a message whether the answer is correct or incorrect."
   ]
  },
  {
   "cell_type": "code",
   "execution_count": null,
   "id": "89cde241-1648-437f-9ba0-63226c3cfae6",
   "metadata": {},
   "outputs": [],
   "source": [
    "import random as r\n",
    "\n",
    "name = input(\"What is yor name?\")\n",
    "\n",
    "print(f\"Alright {name} Welcome to your maths quiz\")\n",
    "\n",
    "a=[1,2,3,4,5,6,7,8,9,10]\n",
    "operators = ['+','-','*','/']\n",
    "\n",
    "n1 = r.choice(a)\n",
    "n2 = r.choice(a)\n",
    "\n",
    "op = r.choice(operators)\n",
    "\n",
    "print(f\"Your question is {n1} {op} {n2}\")\n",
    "answer = 0\n",
    "if op=='+':\n",
    "    answer = n1+n2\n",
    "elif op=='-':\n",
    "    answer = n1-n2\n",
    "elif op=='*':\n",
    "    answer = n1*n2\n",
    "else:\n",
    "    answer = n1/n2\n",
    "\n",
    "inp = int(input(\"What is your answer:\"))\n",
    "if answer == inp:\n",
    "    print(f\"Correct. The answer is {answer}\")\n",
    "else:\n",
    "    print(f\"Incorrect. The Correct answer is {answer}\")"
   ]
  },
  {
   "cell_type": "markdown",
   "id": "431926e2-c395-489f-aae6-ddead3efa205",
   "metadata": {},
   "source": [
    "## Understanding Classes and Objects\n",
    "\n",
    "Q: Write a Python program to create a Bus object that will inherit all the variables and\n",
    "\n",
    "methods of the parent Vehicle class and display it."
   ]
  },
  {
   "cell_type": "code",
   "execution_count": 22,
   "id": "997e1fff-a51e-4fb9-a55e-8b0736fbddc3",
   "metadata": {},
   "outputs": [],
   "source": [
    "class Vehicle:\n",
    "    def __init__(self,vehicle_name,vehicle_speed,vehicle_mileage):\n",
    "        self.name = vehicle_name\n",
    "        self.speed = vehicle_speed\n",
    "        self.mileage = vehicle_mileage\n",
    "    def display(self):\n",
    "        print(f\"Vehicle Name: {self.name} Speed: {self.speed} Mileage: {self.mileage}\")"
   ]
  },
  {
   "cell_type": "code",
   "execution_count": 24,
   "id": "154b1f16-ba7d-4cf2-8cc8-100fd3566dcc",
   "metadata": {},
   "outputs": [],
   "source": [
    "Bus = Vehicle(\"Volvo Bus\", 220, 14)"
   ]
  },
  {
   "cell_type": "code",
   "execution_count": 26,
   "id": "42eb583c-bf5e-4e94-861f-273cf45b9544",
   "metadata": {},
   "outputs": [
    {
     "name": "stdout",
     "output_type": "stream",
     "text": [
      "Vehicle Name: Volvo Bus Speed: 220 Mileage: 14\n"
     ]
    }
   ],
   "source": [
    "Bus.display()"
   ]
  }
 ],
 "metadata": {
  "kernelspec": {
   "display_name": "Python 3 (ipykernel)",
   "language": "python",
   "name": "python3"
  },
  "language_info": {
   "codemirror_mode": {
    "name": "ipython",
    "version": 3
   },
   "file_extension": ".py",
   "mimetype": "text/x-python",
   "name": "python",
   "nbconvert_exporter": "python",
   "pygments_lexer": "ipython3",
   "version": "3.11.7"
  }
 },
 "nbformat": 4,
 "nbformat_minor": 5
}
