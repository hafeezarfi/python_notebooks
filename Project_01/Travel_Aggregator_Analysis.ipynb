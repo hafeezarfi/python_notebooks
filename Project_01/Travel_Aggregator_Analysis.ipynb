{
 "cells": [
  {
   "cell_type": "markdown",
   "id": "3f9498fb-2fec-4ed8-b2bc-823b34e4852d",
   "metadata": {},
   "source": [
    "## Scenario\n",
    "\n",
    "Travelling has significally changed thanks to technology. In earlier days,\n",
    "it was not easy to travel as booking journeys used to be a hassle, where people \n",
    "needed to contact travel agents, get prices and then do a lot of paperwork.\n",
    "\n",
    "But, with the advent of online apps, it becomes easier to book tickets. However, one\n",
    "challenge is still there. Due to many available apps which offer bookings, there can be a lot\n",
    "of comparisons for getting the best price.\n",
    "\n",
    "A new Indian start-up, \"MyNextBooking” is an aggregator on top of the available top\n",
    "platforms (Yatra, MMT, Goibibo). It helps the user compare prices for their upcoming\n",
    "journeys on its platform and the customer is redirected to the desired platform after\n",
    "looking at the price.\n",
    "\n",
    "However, they need to do a lot of analysis of the data which they have collected over a\n",
    "while.\n",
    "\n",
    "As a newly hired analyst and proficiency in Python, your role is to help them perform an in-\n",
    "depth analysis\n",
    "\n",
    "Objective: Please provide answers to the following questions:\n",
    "\n",
    "1) Find the number of distinct bookings, sessions, and searches from the given data\n",
    "sets.\n",
    "2) How many sessions have more than one booking?\n",
    "3) Which days of the week have the highest number of bookings? Also, draw a pie\n",
    "chart to show the distribution for all days of the week?\n",
    "4) For each of the service names, display the total number of bookings and the total\n",
    "Gross Booking Value in INR\n",
    "5) For customers who have more than 1 booking, which is the most booked route\n",
    "(from_city to to_city)?\n",
    "6) Which are the top 3 departure cities from where customers book mostly in advance,\n",
    "provided that there have been at least 5 departures from that city?\n",
    "7) Plot a heatmap displaying correlations of the numerical column and report which\n",
    "pair of numerical columns in the bookings data set, have the maximum correlation?\n",
    "8) For each service, which is the most used device type for making bookings on the\n",
    "platform?\n",
    "9) Plot the trends at a quarterly frequency for the number of bookings by each of the\n",
    "device types, that is, plot a time series for each year and quarter showing the\n",
    "number of bookings performed by each device type.\n",
    "10) Consider the following example:\n",
    "12 customers performed a total of 100 searches but only a few of them performed\n",
    "10 bookings in total.\n",
    "\n",
    "Searches = 100 bookings = 10 customers = 12\n",
    "\n",
    "The overall booking to search ratio, Ober, is 10/100 = 0.1 Using the above\n",
    "information/context, answer the following:\n",
    "\n",
    "• What is the average oBSR for each month of the year?\n",
    "• What is the average oBSR for each day of the week?\n",
    "• Plot a time series of oBSR on all the given dates."
   ]
  },
  {
   "cell_type": "code",
   "execution_count": 4,
   "id": "209f06a1-c6f3-4aa2-b01a-9293a502868a",
   "metadata": {},
   "outputs": [],
   "source": [
    "import pandas as pd\n",
    "import numpy as np\n",
    "import matplotlib.pyplot as plt\n",
    "import seaborn as sns\n",
    "\n",
    "# loading datasets\n",
    "bookings_df = pd.read_csv('Bookings.csv')\n",
    "sessions_df = pd.read_csv('Sessions.csv')"
   ]
  },
  {
   "cell_type": "code",
   "execution_count": 22,
   "id": "7e38e942-8472-43b2-bb86-4a1a3b88598c",
   "metadata": {},
   "outputs": [
    {
     "data": {
      "text/html": [
       "<div>\n",
       "<style scoped>\n",
       "    .dataframe tbody tr th:only-of-type {\n",
       "        vertical-align: middle;\n",
       "    }\n",
       "\n",
       "    .dataframe tbody tr th {\n",
       "        vertical-align: top;\n",
       "    }\n",
       "\n",
       "    .dataframe thead th {\n",
       "        text-align: right;\n",
       "    }\n",
       "</style>\n",
       "<table border=\"1\" class=\"dataframe\">\n",
       "  <thead>\n",
       "    <tr style=\"text-align: right;\">\n",
       "      <th></th>\n",
       "      <th>customer_id</th>\n",
       "      <th>booking_id</th>\n",
       "      <th>from_city</th>\n",
       "      <th>from_country</th>\n",
       "      <th>to_city</th>\n",
       "      <th>to_country</th>\n",
       "      <th>booking_time</th>\n",
       "      <th>device_type_used</th>\n",
       "      <th>INR_Amount</th>\n",
       "      <th>service_name</th>\n",
       "      <th>no_of_passengers</th>\n",
       "      <th>days_to_departure</th>\n",
       "      <th>distance_km</th>\n",
       "    </tr>\n",
       "  </thead>\n",
       "  <tbody>\n",
       "    <tr>\n",
       "      <th>0</th>\n",
       "      <td>customer_259</td>\n",
       "      <td>booking_82</td>\n",
       "      <td>Gurgaon</td>\n",
       "      <td>India</td>\n",
       "      <td>Ahmedabad</td>\n",
       "      <td>India</td>\n",
       "      <td>2020-02-05T16:12:08Z</td>\n",
       "      <td>Desktop</td>\n",
       "      <td>2565.28</td>\n",
       "      <td>MMT</td>\n",
       "      <td>1.0</td>\n",
       "      <td>10.0</td>\n",
       "      <td>747.8</td>\n",
       "    </tr>\n",
       "    <tr>\n",
       "      <th>1</th>\n",
       "      <td>customer_303</td>\n",
       "      <td>booking_156</td>\n",
       "      <td>Delhi</td>\n",
       "      <td>India</td>\n",
       "      <td>Brussels</td>\n",
       "      <td>Belgium</td>\n",
       "      <td>2018-11-21T08:21:47Z</td>\n",
       "      <td>Android</td>\n",
       "      <td>23120.00</td>\n",
       "      <td>YATRA</td>\n",
       "      <td>1.0</td>\n",
       "      <td>1.0</td>\n",
       "      <td>6701.5</td>\n",
       "    </tr>\n",
       "    <tr>\n",
       "      <th>2</th>\n",
       "      <td>customer_203</td>\n",
       "      <td>booking_99</td>\n",
       "      <td>Devanhalli</td>\n",
       "      <td>India</td>\n",
       "      <td>Frankfurt am Main</td>\n",
       "      <td>Germany</td>\n",
       "      <td>2019-12-16T22:54:58Z</td>\n",
       "      <td>Android</td>\n",
       "      <td>25717.60</td>\n",
       "      <td>YATRA</td>\n",
       "      <td>1.0</td>\n",
       "      <td>32.0</td>\n",
       "      <td>7712.0</td>\n",
       "    </tr>\n",
       "    <tr>\n",
       "      <th>3</th>\n",
       "      <td>customer_211</td>\n",
       "      <td>booking_319</td>\n",
       "      <td>Gurgaon</td>\n",
       "      <td>India</td>\n",
       "      <td>Frankfurt am Main</td>\n",
       "      <td>Germany</td>\n",
       "      <td>2021-10-29T12:25:38Z</td>\n",
       "      <td>Desktop</td>\n",
       "      <td>135969.60</td>\n",
       "      <td>GOIBIBO</td>\n",
       "      <td>2.0</td>\n",
       "      <td>69.0</td>\n",
       "      <td>6112.5</td>\n",
       "    </tr>\n",
       "    <tr>\n",
       "      <th>4</th>\n",
       "      <td>customer_287</td>\n",
       "      <td>booking_222</td>\n",
       "      <td>Gurgaon</td>\n",
       "      <td>India</td>\n",
       "      <td>Roissy-en-France</td>\n",
       "      <td>France</td>\n",
       "      <td>2020-08-11T16:09:10Z</td>\n",
       "      <td>Android</td>\n",
       "      <td>31791.20</td>\n",
       "      <td>GOIBIBO</td>\n",
       "      <td>1.0</td>\n",
       "      <td>3.0</td>\n",
       "      <td>6570.4</td>\n",
       "    </tr>\n",
       "  </tbody>\n",
       "</table>\n",
       "</div>"
      ],
      "text/plain": [
       "    customer_id   booking_id   from_city from_country            to_city  \\\n",
       "0  customer_259   booking_82     Gurgaon        India          Ahmedabad   \n",
       "1  customer_303  booking_156       Delhi        India           Brussels   \n",
       "2  customer_203   booking_99  Devanhalli        India  Frankfurt am Main   \n",
       "3  customer_211  booking_319     Gurgaon        India  Frankfurt am Main   \n",
       "4  customer_287  booking_222     Gurgaon        India   Roissy-en-France   \n",
       "\n",
       "  to_country          booking_time device_type_used  INR_Amount service_name  \\\n",
       "0      India  2020-02-05T16:12:08Z          Desktop     2565.28          MMT   \n",
       "1    Belgium  2018-11-21T08:21:47Z          Android    23120.00        YATRA   \n",
       "2    Germany  2019-12-16T22:54:58Z          Android    25717.60        YATRA   \n",
       "3    Germany  2021-10-29T12:25:38Z          Desktop   135969.60      GOIBIBO   \n",
       "4     France  2020-08-11T16:09:10Z          Android    31791.20      GOIBIBO   \n",
       "\n",
       "   no_of_passengers  days_to_departure  distance_km  \n",
       "0               1.0               10.0        747.8  \n",
       "1               1.0                1.0       6701.5  \n",
       "2               1.0               32.0       7712.0  \n",
       "3               2.0               69.0       6112.5  \n",
       "4               1.0                3.0       6570.4  "
      ]
     },
     "execution_count": 22,
     "metadata": {},
     "output_type": "execute_result"
    }
   ],
   "source": [
    "bookings_df.head()"
   ]
  },
  {
   "cell_type": "code",
   "execution_count": 24,
   "id": "8e9ce73e-efec-45d1-a503-4c5f5c5a0766",
   "metadata": {},
   "outputs": [
    {
     "data": {
      "text/html": [
       "<div>\n",
       "<style scoped>\n",
       "    .dataframe tbody tr th:only-of-type {\n",
       "        vertical-align: middle;\n",
       "    }\n",
       "\n",
       "    .dataframe tbody tr th {\n",
       "        vertical-align: top;\n",
       "    }\n",
       "\n",
       "    .dataframe thead th {\n",
       "        text-align: right;\n",
       "    }\n",
       "</style>\n",
       "<table border=\"1\" class=\"dataframe\">\n",
       "  <thead>\n",
       "    <tr style=\"text-align: right;\">\n",
       "      <th></th>\n",
       "      <th>session_id</th>\n",
       "      <th>search_id</th>\n",
       "      <th>search_time</th>\n",
       "      <th>session_starting_time</th>\n",
       "      <th>booking_id</th>\n",
       "    </tr>\n",
       "  </thead>\n",
       "  <tbody>\n",
       "    <tr>\n",
       "      <th>0</th>\n",
       "      <td>session_322</td>\n",
       "      <td>search_784</td>\n",
       "      <td>2020-01-21T21:35:38.910Z</td>\n",
       "      <td>2020-01-21T21:10:12Z</td>\n",
       "      <td>NaN</td>\n",
       "    </tr>\n",
       "    <tr>\n",
       "      <th>1</th>\n",
       "      <td>session_322</td>\n",
       "      <td>search_776</td>\n",
       "      <td>2020-01-21T21:37:37.697Z</td>\n",
       "      <td>2020-01-21T21:10:12Z</td>\n",
       "      <td>NaN</td>\n",
       "    </tr>\n",
       "    <tr>\n",
       "      <th>2</th>\n",
       "      <td>session_322</td>\n",
       "      <td>search_623</td>\n",
       "      <td>2020-01-21T21:36:11.392Z</td>\n",
       "      <td>2020-01-21T21:10:12Z</td>\n",
       "      <td>NaN</td>\n",
       "    </tr>\n",
       "    <tr>\n",
       "      <th>3</th>\n",
       "      <td>session_322</td>\n",
       "      <td>search_270</td>\n",
       "      <td>2020-01-21T21:16:07.685Z</td>\n",
       "      <td>2020-01-21T21:10:12Z</td>\n",
       "      <td>NaN</td>\n",
       "    </tr>\n",
       "    <tr>\n",
       "      <th>4</th>\n",
       "      <td>session_322</td>\n",
       "      <td>search_905</td>\n",
       "      <td>2020-01-21T21:34:55.673Z</td>\n",
       "      <td>2020-01-21T21:10:12Z</td>\n",
       "      <td>NaN</td>\n",
       "    </tr>\n",
       "  </tbody>\n",
       "</table>\n",
       "</div>"
      ],
      "text/plain": [
       "    session_id   search_id               search_time session_starting_time  \\\n",
       "0  session_322  search_784  2020-01-21T21:35:38.910Z  2020-01-21T21:10:12Z   \n",
       "1  session_322  search_776  2020-01-21T21:37:37.697Z  2020-01-21T21:10:12Z   \n",
       "2  session_322  search_623  2020-01-21T21:36:11.392Z  2020-01-21T21:10:12Z   \n",
       "3  session_322  search_270  2020-01-21T21:16:07.685Z  2020-01-21T21:10:12Z   \n",
       "4  session_322  search_905  2020-01-21T21:34:55.673Z  2020-01-21T21:10:12Z   \n",
       "\n",
       "  booking_id  \n",
       "0        NaN  \n",
       "1        NaN  \n",
       "2        NaN  \n",
       "3        NaN  \n",
       "4        NaN  "
      ]
     },
     "execution_count": 24,
     "metadata": {},
     "output_type": "execute_result"
    }
   ],
   "source": [
    "sessions_df.head()"
   ]
  },
  {
   "cell_type": "code",
   "execution_count": 26,
   "id": "ac544aa5-d5ab-4c6a-b74f-7a558103b026",
   "metadata": {},
   "outputs": [
    {
     "name": "stdout",
     "output_type": "stream",
     "text": [
      "<class 'pandas.core.frame.DataFrame'>\n",
      "RangeIndex: 339 entries, 0 to 338\n",
      "Data columns (total 13 columns):\n",
      " #   Column             Non-Null Count  Dtype  \n",
      "---  ------             --------------  -----  \n",
      " 0   customer_id        339 non-null    object \n",
      " 1   booking_id         339 non-null    object \n",
      " 2   from_city          339 non-null    object \n",
      " 3   from_country       339 non-null    object \n",
      " 4   to_city            339 non-null    object \n",
      " 5   to_country         339 non-null    object \n",
      " 6   booking_time       339 non-null    object \n",
      " 7   device_type_used   339 non-null    object \n",
      " 8   INR_Amount         339 non-null    float64\n",
      " 9   service_name       339 non-null    object \n",
      " 10  no_of_passengers   339 non-null    float64\n",
      " 11  days_to_departure  339 non-null    float64\n",
      " 12  distance_km        339 non-null    float64\n",
      "dtypes: float64(4), object(9)\n",
      "memory usage: 34.6+ KB\n"
     ]
    }
   ],
   "source": [
    "# 1. Find distinct bookings, sessions and searches\n",
    "bookings_info = bookings_df.info()"
   ]
  },
  {
   "cell_type": "code",
   "execution_count": 28,
   "id": "d8aa77f2-cacd-4af7-b6fd-6e47a344e418",
   "metadata": {},
   "outputs": [
    {
     "name": "stdout",
     "output_type": "stream",
     "text": [
      "<class 'pandas.core.frame.DataFrame'>\n",
      "RangeIndex: 1497 entries, 0 to 1496\n",
      "Data columns (total 5 columns):\n",
      " #   Column                 Non-Null Count  Dtype \n",
      "---  ------                 --------------  ----- \n",
      " 0   session_id             1497 non-null   object\n",
      " 1   search_id              1497 non-null   object\n",
      " 2   search_time            1497 non-null   object\n",
      " 3   session_starting_time  1497 non-null   object\n",
      " 4   booking_id             366 non-null    object\n",
      "dtypes: object(5)\n",
      "memory usage: 58.6+ KB\n"
     ]
    }
   ],
   "source": [
    "sessions_info = sessions_df.info()"
   ]
  },
  {
   "cell_type": "code",
   "execution_count": 36,
   "id": "55aafef5-de3e-463c-a4ce-cd03e9477711",
   "metadata": {},
   "outputs": [],
   "source": [
    "distinct_bookings = bookings_df['booking_id'].nunique()\n",
    "distinct_sessions = sessions_df['session_id'].nunique()\n",
    "disticnt_searches = sessions_df['search_id'].nunique()"
   ]
  },
  {
   "cell_type": "code",
   "execution_count": 42,
   "id": "4dbeba8f-26e0-4917-8174-60e1abf3377d",
   "metadata": {},
   "outputs": [
    {
     "name": "stdout",
     "output_type": "stream",
     "text": [
      "Distinct bookings: 339\n",
      "Distinct sessions: 331\n",
      "Distinct_searches: 1360\n"
     ]
    }
   ],
   "source": [
    "# printing answers\n",
    "print(\"Distinct bookings:\",distinct_bookings)\n",
    "print(\"Distinct sessions:\",distinct_sessions)\n",
    "print(\"Distinct_searches:\",disticnt_searches)"
   ]
  },
  {
   "cell_type": "code",
   "execution_count": 54,
   "id": "023d3cd6-5d78-4c1f-9321-b5afa1b5cabf",
   "metadata": {},
   "outputs": [
    {
     "name": "stdout",
     "output_type": "stream",
     "text": [
      "Sessions with more than one bookings: 35\n"
     ]
    }
   ],
   "source": [
    "# 2. How many sessions have more than one booking?\n",
    "\n",
    "# Count the number of bookings per session\n",
    "session_booking_counts = sessions_df.dropna(subset=['booking_id'])\n",
    "session_booking_counts = session_booking_counts.groupby('session_id').size()\n",
    "\n",
    "# Filter sessions with more than one booking\n",
    "sessions_with_multiple_bookings = session_booking_counts[session_booking_counts > 1].count()\n",
    "\n",
    "print(\"Sessions with more than one bookings:\",sessions_with_multiple_bookings)\n"
   ]
  },
  {
   "cell_type": "code",
   "execution_count": 76,
   "id": "19d75756-d585-4271-b203-cd1a1e030f54",
   "metadata": {},
   "outputs": [
    {
     "data": {
      "text/plain": [
       "day_of_week\n",
       "Thursday     65\n",
       "Tuesday      59\n",
       "Monday       51\n",
       "Friday       51\n",
       "Saturday     44\n",
       "Sunday       35\n",
       "Wednesday    34\n",
       "Name: count, dtype: int64"
      ]
     },
     "execution_count": 76,
     "metadata": {},
     "output_type": "execute_result"
    }
   ],
   "source": [
    "# 3.which days of week have highest number of bookings\n",
    "bookings_df['booking_time'] = pd.to_datetime(bookings_df['booking_time'])\n",
    "\n",
    "bookings_df['day_of_week'] = bookings_df['booking_time'].dt.day_name()\n",
    "\n",
    "per_day_booking = bookings_df['day_of_week'].value_counts()\n",
    "\n",
    "per_day_booking"
   ]
  },
  {
   "cell_type": "markdown",
   "id": "8b982238-50bf-4a4e-a415-47bceae8109c",
   "metadata": {},
   "source": [
    "<b>From above dataframe Thursdays have highest number of bookings i.e 65</b>"
   ]
  },
  {
   "cell_type": "code",
   "execution_count": 82,
   "id": "3bcc0444-1b90-4e3a-8019-cc5a2d9a648a",
   "metadata": {},
   "outputs": [
    {
     "data": {
      "image/png": "[encoded data removed]",
      "text/plain": [
       "<Figure size 1000x600 with 1 Axes>"
      ]
     },
     "metadata": {},
     "output_type": "display_data"
    }
   ],
   "source": [
    "# ploting pie chart of days\n",
    "plt.figure(figsize=(10,6))\n",
    "per_day_booking.plot.pie(autopct='%1.1f%%',colors=plt.cm.Paired(range(7)))\n",
    "plt.title(\"Bookings by Day of the Week\")\n",
    "plt.show()"
   ]
  },
  {
   "cell_type": "code",
   "execution_count": null,
   "id": "1cfb47d6-9174-4dba-b766-4ff02c08ab81",
   "metadata": {},
   "outputs": [],
   "source": [
    "# 4. For each of the service names, display the total number of bookings and the total \n",
    "# Gross Booking Value in INR.\n",
    "\n"
   ]
  }
 ],
 "metadata": {
  "kernelspec": {
   "display_name": "Python 3 (ipykernel)",
   "language": "python",
   "name": "python3"
  },
  "language_info": {
   "codemirror_mode": {
    "name": "ipython",
    "version": 3
   },
   "file_extension": ".py",
   "mimetype": "text/x-python",
   "name": "python",
   "nbconvert_exporter": "python",
   "pygments_lexer": "ipython3",
   "version": "3.11.7"
  }
 },
 "nbformat": 4,
 "nbformat_minor": 5
}
